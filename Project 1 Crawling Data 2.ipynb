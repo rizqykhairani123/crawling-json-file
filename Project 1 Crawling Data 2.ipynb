{
 "cells": [
  {
   "cell_type": "code",
   "execution_count": 6,
   "metadata": {},
   "outputs": [],
   "source": [
    "import tweepy"
   ]
  },
  {
   "cell_type": "code",
   "execution_count": 7,
   "metadata": {},
   "outputs": [],
   "source": [
    "CONSUMER_KEY = 'Ouen3IH6OPH9BLH20WlYmOIxt'\n",
    "CONSUMER_SECRET = 'N8SfKQWF1cJiAlCDqLrYupBCW6twylvoQHcA1O91f6oLbq94VG'\n",
    "ACCESS_TOKEN = '238117573-8C5fnwHXGx6Fea168v5S2b6355sK0wWjac6CZ8FN'\n",
    "ACCESS_TOKEN_SECRET = 'E7AMGwk2BmB7DNTAraiuYrmHHKf6uI7cZyzRT4KIpm12j'\n",
    "\n",
    "#Setup access to API\n",
    "def connect_to_twitter_OAuth():\n",
    "    auth = tweepy.OAuthHandler(CONSUMER_KEY, CONSUMER_SECRET)\n",
    "    auth.set_access_token(ACCESS_TOKEN, ACCESS_TOKEN_SECRET)\n",
    "    \n",
    "    api = tweepy.API(auth)\n",
    "    return api\n",
    "api = connect_to_twitter_OAuth()"
   ]
  },
  {
   "cell_type": "code",
   "execution_count": 8,
   "metadata": {},
   "outputs": [
    {
     "name": "stdout",
     "output_type": "stream",
     "text": [
      "<tweepy.api.API object at 0x0000017B7F81C0F0>\n"
     ]
    }
   ],
   "source": [
    "print (api)"
   ]
  },
  {
   "cell_type": "code",
   "execution_count": 9,
   "metadata": {},
   "outputs": [
    {
     "name": "stdout",
     "output_type": "stream",
     "text": [
      "Wherever you are, I'll always make you smile\n",
      "Wherever you are, I'm always by your side #ONEOKROCK\n",
      "RT @ShinjiruShunkan: I'm craving for this kind of performance!! #ONEOKROCK https://t.co/Gw0pzkN2Xc\n",
      "RT @fuonq_: YOU GIVE ME A REASON TO KEEP MY HEART BEATING #ONEOKROCK https://t.co/GLhQrJAppj\n",
      "RT @ShinjiruShunkan: I'm craving for this kind of performance!! #ONEOKROCK https://t.co/Gw0pzkN2Xc\n",
      "RT @ONEOKROCK_MDoga: 【Mighty Long Fall】 #ONEOKROCK https://t.co/jswKJrEG5b\n",
      "RT @miharuii13: WHEREVER YOU ARE\n",
      "#ONEOKROCK \n",
      "#AmbitionsJAPANDOMETOUR https://t.co/9evgOZ50o0\n",
      "RT @miharuii13: WHEREVER YOU ARE\n",
      "#ONEOKROCK \n",
      "#AmbitionsJAPANDOMETOUR https://t.co/9evgOZ50o0\n",
      "RT @vyongie: \"Demo kino wa kinou, kyou wa kyou.\"\n",
      "\n",
      "Yesterday was yesterday, today is today.\n",
      "\n",
      "-Yamashita Toru 💖\n",
      "\n",
      "@ONEOKROCK_japan \n",
      "#OOR #ONEO…\n",
      "RT @Rivaliskandar: Beginning  #ONEOKROCK https://t.co/AzBSaK1Q5X\n",
      "RT @wordsNnotesPNG: Last Dance\n",
      "#ONEOKROCK Ambitions Japan Dome Tour 2018\n",
      "\n",
      "Please support the band, buy the Live DVD &amp; Blu-ray\n",
      "🔗 https://t.c…\n",
      "RT @SMOLTAKA: me whenever i hear wherever you are #ONEOKROCK https://t.co/UuCLMvW2NB\n",
      "RT @vampilie: taka singing last dance acoustic while playing guitar #ONEOKROCK https://t.co/iEKE58x9LI\n",
      "RT @Daeeemul: \"Take what you want, take what you want and go\n",
      "Can you hear me? \" \n",
      "\n",
      "😭💕\n",
      "\n",
      "#ONEOKROCK #ONEOKROCKJapanDomeTour2018 https://t.co/G…\n",
      "RT @SMOLTAKA: me whenever i hear wherever you are #ONEOKROCK https://t.co/UuCLMvW2NB\n",
      "RT @jhoanniexxi: When oor speaks \n",
      "\n",
      "#ONEOKROCK https://t.co/SXXdfXPU1t\n"
     ]
    }
   ],
   "source": [
    "search_words = \"#ONEOKROCK\"\n",
    "date_since = \"2019-01-01\"\n",
    "\n",
    "tweets = tweepy.Cursor(api.search,\n",
    "                      q = search_words,\n",
    "                      lang=\"en\",\n",
    "                      since=date_since).items(15)\n",
    "\n",
    "#iterate on tweets\n",
    "for tweet in tweets:\n",
    "    print(tweet.text)"
   ]
  },
  {
   "cell_type": "code",
   "execution_count": null,
   "metadata": {},
   "outputs": [],
   "source": [
    "import tweepy\n",
    "import json\n",
    "\n",
    "#Variables that contains the credentials to access Twitter API\n",
    "CONSUMER_KEY = 'Ouen3IH6OPH9BLH20WlYmOIxt'\n",
    "CONSUMER_SECRET = 'N8SfKQWF1cJiAlCDqLrYupBCW6twylvoQHcA1O91f6oLbq94VG'\n",
    "ACCESS_TOKEN = '238117573-8C5fnwHXGx6Fea168v5S2b6355sK0wWjac6CZ8FN'\n",
    "ACCESS_TOKEN_SECRET = 'E7AMGwk2BmB7DNTAraiuYrmHHKf6uI7cZyzRT4KIpm12j'\n",
    "\n",
    "#Setup access to API\n",
    "auth = tweepy.OAuthHandler(CONSUMER_KEY, CONSUMER_SECRET)\n",
    "auth.set_access_token(ACCESS_TOKEN, ACCESS_TOKEN_SECRET)\n",
    "\n",
    "class MyListener(tweepy.StreamListener):\n",
    "    \n",
    "    def on_data(self,data):\n",
    "        try:\n",
    "            with open('pythonproject1.json','a')as f:\n",
    "                f.write(data)\n",
    "                return True\n",
    "        except BaseException as e:\n",
    "            print(\"Error on_data: %s\" % str(e))\n",
    "        return True\n",
    "            \n",
    "    def on_error(self, status):\n",
    "        print(status)\n",
    "        return True\n",
    "        \n",
    "twitter_stream = tweepy.Stream(auth, MyListener())\n",
    "twitter_stream.filter(track=['#ONEOKROCK'])"
   ]
  },
  {
   "cell_type": "code",
   "execution_count": null,
   "metadata": {},
   "outputs": [],
   "source": []
  }
 ],
 "metadata": {
  "kernelspec": {
   "display_name": "Python 3",
   "language": "python",
   "name": "python3"
  },
  "language_info": {
   "codemirror_mode": {
    "name": "ipython",
    "version": 3
   },
   "file_extension": ".py",
   "mimetype": "text/x-python",
   "name": "python",
   "nbconvert_exporter": "python",
   "pygments_lexer": "ipython3",
   "version": "3.7.3"
  }
 },
 "nbformat": 4,
 "nbformat_minor": 2
}
